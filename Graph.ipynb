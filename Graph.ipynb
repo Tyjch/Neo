{
 "cells": [
  {
   "cell_type": "markdown",
   "metadata": {
    "heading_collapsed": true
   },
   "source": [
    "# Import Statements"
   ]
  },
  {
   "cell_type": "code",
   "execution_count": null,
   "metadata": {
    "hidden": true,
    "init_cell": true
   },
   "outputs": [],
   "source": [
    "import wikipedia\n",
    "import textacy.corpus\n",
    "import re\n",
    "from textacy.extract import named_entities\n",
    "from textacy.datasets.wikipedia import strip_markup\n",
    "from py2neo import Node, Relationship, Graph, NodeSelector, NodeSelection"
   ]
  },
  {
   "cell_type": "markdown",
   "metadata": {
    "heading_collapsed": true
   },
   "source": [
    "# Definitions"
   ]
  },
  {
   "cell_type": "markdown",
   "metadata": {
    "heading_collapsed": true,
    "hidden": true
   },
   "source": [
    "## Regular Expressions"
   ]
  },
  {
   "cell_type": "code",
   "execution_count": 2,
   "metadata": {
    "hidden": true
   },
   "outputs": [],
   "source": [
    "re_section_headers = re.compile('==(.*?)==')\n",
    "re_whitespace = re.compile('\\\\n{1,}\\s*')\n",
    "re_display_styles = re.compile('(\\{\\\\\\\\displaystyle)(.*?)(,\\}|\\.\\})')\n",
    "re_duplicate_spaces = re.compile('(\\s{2,})')"
   ]
  },
  {
   "cell_type": "markdown",
   "metadata": {
    "heading_collapsed": true,
    "hidden": true
   },
   "source": [
    "## Wikipedia"
   ]
  },
  {
   "cell_type": "code",
   "execution_count": 3,
   "metadata": {
    "code_folding": [
     0.0
    ],
    "hidden": true,
    "init_cell": true
   },
   "outputs": [],
   "source": [
    "def create_indexes(graph): \n",
    "    graph.run('CREATE INDEX ON :Category(catId)')\n",
    "    graph.run('CREATE INDEX ON :Category(catName)')\n",
    "    graph.run('CREATE INDEX ON :Page(pageTitle)')"
   ]
  },
  {
   "cell_type": "code",
   "execution_count": 4,
   "metadata": {
    "code_folding": [
     0.0
    ],
    "hidden": true,
    "init_cell": true
   },
   "outputs": [],
   "source": [
    "def create_root(graph, category_name): \n",
    "    graph.run('CREATE (c:Category:RootCategory {{catId:0, catName: \"{0!s}\", subcatsFetched: false, pagesFetched: false, level: 0}})'.format(category_name))"
   ]
  },
  {
   "cell_type": "code",
   "execution_count": 5,
   "metadata": {
    "code_folding": [
     0.0
    ],
    "hidden": true,
    "init_cell": true
   },
   "outputs": [],
   "source": [
    "def fetch_categories(graph, levels=3): \n",
    "    graph.run('''\n",
    "              UNWIND range(0, {0}) as level \\n\n",
    "              CALL apoc.cypher.doIt(\" \\n\n",
    "              MATCH (c:Category {{subcatsFetched: false, level: $level}}) \\n\n",
    "              CALL apoc.load.json('https://en.wikipedia.org/w/api.php?format=json&action=query&list=categorymembers&cmtype=subcat&cmtitle=Category:' + apoc.text.urlencode(c.catName) + '&cmprop=ids%7Ctitle&cmlimit=500') \\n\n",
    "              YIELD value as results \\n\n",
    "              UNWIND results.query.categorymembers AS subcat \\n\n",
    "              MERGE (sc:Category {{catId: subcat.pageid}}) \\n\n",
    "              ON CREATE SET sc.catName = substring(subcat.title, 9), \\n\n",
    "              sc.subcatsFetched = false, \\n\n",
    "              sc.pagesFetched = false, \\n\n",
    "              sc.level = $level + 1 \\n\n",
    "              WITH sc,c \\n\n",
    "              CALL apoc.create.addLabels(sc,['Level' +  ($level + 1) + 'Category']) YIELD node \\n\n",
    "              MERGE (sc)-[:SUBCAT_OF]->(c) \\n\n",
    "              WITH DISTINCT c \\n\n",
    "              SET c.subcatsFetched = true\", {{ level: level }}) YIELD value \\n\n",
    "              RETURN value\n",
    "              '''.format(levels))"
   ]
  },
  {
   "cell_type": "code",
   "execution_count": 6,
   "metadata": {
    "code_folding": [
     0.0
    ],
    "hidden": true,
    "init_cell": true
   },
   "outputs": [],
   "source": [
    "def fetch_pages(graph, levels=3): \n",
    "    graph.run('''\n",
    "              UNWIND range(0, {0}) as level \\n\n",
    "              CALL apoc.cypher.doIt(\" \\n\n",
    "              MATCH (c:Category {{ pagesFetched: false, level: $level }}) \\n\n",
    "              CALL apoc.load.json('https://en.wikipedia.org/w/api.php?format=json&action=query&list=categorymembers&cmtype=page&cmtitle=Category:' + apoc.text.urlencode(c.catName) + '&cmprop=ids%7Ctitle&cmlimit=500') \\n\n",
    "              YIELD value as results \\n\n",
    "              UNWIND results.query.categorymembers AS page \\n\n",
    "              MERGE (p:Page {{pageId: page.pageid}}) \\n\n",
    "              ON CREATE SET p.pageTitle = page.title, p.pageUrl = 'http://en.wikipedia.org/wiki/' + apoc.text.urlencode(replace(page.title, ' ', '_')) \\n\n",
    "              WITH p,c \\n\n",
    "              MERGE (p)-[:IN_CATEGORY]->(c) \\n\n",
    "              WITH DISTINCT c \\n\n",
    "              SET c.pagesFetched = true\", {{ level: level }}) yield value \\n\n",
    "              return value \\n\n",
    "              '''.format(levels))"
   ]
  },
  {
   "cell_type": "code",
   "execution_count": 7,
   "metadata": {
    "code_folding": [
     0.0
    ],
    "hidden": true
   },
   "outputs": [],
   "source": [
    "def retrieve_page_titles(graph, conditions = (), skip = None, limit = None): \n",
    "    selector = NodeSelector(graph)\n",
    "    selected = list(selector.select(\"Page\"))\n",
    "    \n",
    "    list_of_page_titles = []\n",
    "    \n",
    "    for node in selected:\n",
    "        list_of_page_titles.append(node['pageTitle'])\n",
    "    \n",
    "    return list_of_page_titles;"
   ]
  },
  {
   "cell_type": "code",
   "execution_count": 8,
   "metadata": {
    "code_folding": [
     0.0
    ],
    "hidden": true
   },
   "outputs": [],
   "source": [
    "def strip_markup(text): \n",
    "    text = re_section_headers.sub(' ', text)\n",
    "    text = re_whitespace.sub(' ', text)\n",
    "    text = re_display_styles.sub(' ', text)\n",
    "    text = re_duplicate_spaces.sub(' ', text)\n",
    "    \n",
    "    return text;"
   ]
  },
  {
   "cell_type": "markdown",
   "metadata": {
    "heading_collapsed": true,
    "hidden": true
   },
   "source": [
    "## Corpus"
   ]
  },
  {
   "cell_type": "code",
   "execution_count": 9,
   "metadata": {
    "code_folding": [
     0.0
    ],
    "hidden": true
   },
   "outputs": [],
   "source": [
    "def generate_streams(page_titles): \n",
    "    text_list = []\n",
    "    meta_list = []\n",
    "    \n",
    "    for title in page_titles:\n",
    "        wikipage = wikipedia.WikipediaPage(title)\n",
    "        text = strip_markup(wikipage.content)\n",
    "        text_list.append(text)\n",
    "        meta_list.append({'title': wikipage.title, \n",
    "                          'categories': wikipage.categories, \n",
    "                          'links': wikipage.links})\n",
    "        \n",
    "    return text_list, meta_list;"
   ]
  },
  {
   "cell_type": "markdown",
   "metadata": {
    "heading_collapsed": true
   },
   "source": [
    "# Testing"
   ]
  },
  {
   "cell_type": "code",
   "execution_count": 10,
   "metadata": {
    "code_folding": [
     0.0
    ],
    "hidden": true
   },
   "outputs": [],
   "source": [
    "# Connect to the existing Neo4j graph \n",
    "graph = Graph(password = 'password')\n",
    "\n",
    "# Set up rate limiting for wikipedia library\n",
    "wikipedia.set_rate_limiting(True)"
   ]
  },
  {
   "cell_type": "code",
   "execution_count": 11,
   "metadata": {
    "code_folding": [
     0.0
    ],
    "hidden": true
   },
   "outputs": [],
   "source": [
    "# Delete all existing nodes and relationships that may happen to exist in the graph \n",
    "graph.delete_all()\n",
    "\n",
    "# Create indexes for faster retrieval\n",
    "create_indexes(graph)\n",
    "\n",
    "# Creates the initial category to search from\n",
    "create_root(graph, 'Moment (mathematics)')"
   ]
  },
  {
   "cell_type": "code",
   "execution_count": 12,
   "metadata": {
    "code_folding": [
     0.0
    ],
    "hidden": true
   },
   "outputs": [],
   "source": [
    "# Find categories that are related to existing category \n",
    "fetch_categories(graph, levels = 1)"
   ]
  },
  {
   "cell_type": "code",
   "execution_count": 13,
   "metadata": {
    "code_folding": [
     0.0
    ],
    "hidden": true
   },
   "outputs": [],
   "source": [
    "# Find pages that are related to the category nodes \n",
    "fetch_pages(graph, levels = 1)"
   ]
  },
  {
   "cell_type": "code",
   "execution_count": 14,
   "metadata": {
    "code_folding": [
     0.0
    ],
    "hidden": true
   },
   "outputs": [
    {
     "data": {
      "text/plain": [
       "'Central moment'"
      ]
     },
     "execution_count": 14,
     "metadata": {},
     "output_type": "execute_result"
    }
   ],
   "source": [
    "# Make a list of page titles from page nodes in the graph \n",
    "page_titles = retrieve_page_titles(graph)\n",
    "\n",
    "# Just demonstrating an element of the page titles list\n",
    "page_titles[1]"
   ]
  },
  {
   "cell_type": "code",
   "execution_count": 15,
   "metadata": {
    "code_folding": [],
    "hidden": true
   },
   "outputs": [],
   "source": [
    "# Create a record and metadata stream from a list of page titles \n",
    "texts, metas = generate_streams(page_titles)"
   ]
  },
  {
   "cell_type": "code",
   "execution_count": 16,
   "metadata": {
    "code_folding": [],
    "hidden": true
   },
   "outputs": [],
   "source": [
    "# Create a new corpus from the streams made above \n",
    "corpus = textacy.Corpus('en', texts = texts, metadatas = metas)"
   ]
  },
  {
   "cell_type": "code",
   "execution_count": 17,
   "metadata": {
    "code_folding": [],
    "hidden": true
   },
   "outputs": [
    {
     "data": {
      "text/plain": [
       "Corpus(23 docs; 23852 tokens)"
      ]
     },
     "execution_count": 17,
     "metadata": {},
     "output_type": "execute_result"
    }
   ],
   "source": [
    "# Accessing docs by index in a corpus \n",
    "corpus"
   ]
  },
  {
   "cell_type": "code",
   "execution_count": 18,
   "metadata": {
    "hidden": true
   },
   "outputs": [
    {
     "data": {
      "text/plain": [
       "Doc(1724 tokens; \"In mathematics, a moment is a specific quantita...\")"
      ]
     },
     "execution_count": 18,
     "metadata": {},
     "output_type": "execute_result"
    }
   ],
   "source": [
    "corpus[0]"
   ]
  },
  {
   "cell_type": "code",
   "execution_count": 19,
   "metadata": {
    "code_folding": [
     0.0
    ],
    "hidden": true
   },
   "outputs": [
    {
     "name": "stdout",
     "output_type": "stream",
     "text": [
      "Moment (mathematics)\n",
      "In mathematics, a moment is a specific quantitative measure, used in both mechanics and statistics, of the shape of a set of points. If the points represent mass, then the zeroth moment is the total m\n",
      "\n",
      "===================\n",
      "Central moment\n",
      "In probability theory and statistics, a central moment is a moment of a probability distribution of a random variable about the random variable's mean; that is, it is the expected value of a specified\n",
      "\n",
      "===================\n",
      "Cumulant\n",
      "In probability theory and statistics, the cumulants κn of a probability distribution are a set of quantities that provide an alternative to the moments of the distribution. The moments determine the c\n",
      "\n",
      "===================\n",
      "Factorial moment\n",
      "In probability theory, the factorial moment is a mathematical quantity defined as the expectation or average of the falling factorial of a random variable. Factorial moments are useful for studying no\n",
      "\n",
      "===================\n",
      "Factorial moment generating function\n",
      "In probability theory and statistics, the factorial moment generating function of the probability distribution of a real-valued random variable X is defined as M X ( t ) = E ⁡ [ t X ] of non-negative \n",
      "\n",
      "===================\n",
      "Generalized method of moments\n",
      "In econometrics and statistics, the generalized method of moments (GMM) is a generic method for estimating parameters in statistical models. Usually it is applied in the context of semiparametric mode\n",
      "\n",
      "===================\n",
      "Hamburger moment problem\n",
      "In mathematics, the Hamburger moment problem, named after Hans Ludwig Hamburger, is formulated as follows: given a sequence { mn : n = 1, 2, 3, ... }, does there exist a positive Borel measure μ (for \n",
      "\n",
      "===================\n",
      "Hausdorff moment problem\n",
      "In mathematics, the Hausdorff moment problem, named after Felix Hausdorff, asks for necessary and sufficient conditions that a given sequence { mn : n = 0, 1, 2, ... } be the sequence of moments m n =\n",
      "\n",
      "===================\n",
      "Isserlis' theorem\n",
      "In probability theory, Isserlis’ theorem or Wick’s theorem is a formula that allows one to compute higher-order moments of the multivariate normal distribution in terms of its covariance matrix. It is\n",
      "\n",
      "===================\n",
      "Kurtosis\n",
      "In probability theory and statistics, kurtosis (from Greek: κυρτός, kyrtos or kurtos, meaning \"curved, arching\") is a measure of the \"tailedness\" of the probability distribution of a real-valued rando\n",
      "\n",
      "===================\n",
      "L-moment\n",
      "In statistics, L-moments are a sequence of statistics used to summarize the shape of a probability distribution. They are linear combinations of order statistics (L-statistics) analogous to convention\n",
      "\n",
      "===================\n",
      "Mean\n",
      "In mathematics, mean has several different definitions depending on the context. In probability and statistics, population mean and expected value are used synonymously to refer to one measure of the \n",
      "\n",
      "===================\n",
      "Method of moments (probability theory)\n",
      "In probability theory, the method of moments is a way of proving convergence in distribution by proving convergence of a sequence of moment sequences. Suppose X is a random variable and that all of th\n",
      "\n",
      "===================\n",
      "Method of moments (statistics)\n",
      "In statistics, the method of moments is a method of estimation of population parameters. One starts with deriving equations that relate the population moments (i.e., the expected values of powers of t\n",
      "\n",
      "===================\n",
      "Moment measure\n",
      "In probability and statistics, a moment measure is a mathematical quantity, function or, more precisely, measure that is defined in relation to mathematical objects known as point processes, which are\n",
      "\n",
      "===================\n",
      "Moment problem\n",
      "In mathematics, a moment problem arises as the result of trying to invert the mapping that takes a measure μ to the sequences of moments m n = ∫ − ∞ ∞ x n d μ ( x ) . More generally, one may consider \n",
      "\n",
      "===================\n",
      "Moment-generating function\n",
      "In probability theory and statistics, the moment-generating function of a real-valued random variable is an alternative specification of its probability distribution. Thus, it provides the basis of an\n",
      "\n",
      "===================\n",
      "Second moment method\n",
      "In mathematics, the second moment method is a technique used in probability theory and analysis to show that a random variable has positive probability of being positive. More generally, the \"moment m\n",
      "\n",
      "===================\n",
      "Skewness\n",
      "In probability theory and statistics, skewness is a measure of the asymmetry of the probability distribution of a real-valued random variable about its mean. The skewness value can be positive or nega\n",
      "\n",
      "===================\n",
      "Stieltjes moment problem\n",
      "In mathematics, the Stieltjes moment problem, named after Thomas Joannes Stieltjes, seeks necessary and sufficient conditions for a sequence { mn, : n = 0, 1, 2, ... } to be of the form m n = ∫ 0 ∞ x \n",
      "\n",
      "===================\n",
      "Taylor expansions for the moments of functions of random variables\n",
      "In probability theory, it is possible to approximate the moments of a function f of a random variable X using Taylor expansions, provided that f is sufficiently differentiable and that the moments of \n",
      "\n",
      "===================\n",
      "Variance\n",
      "In probability theory and statistics, variance is the expectation of the squared deviation of a random variable from its mean. Informally, it measures how far a set of (random) numbers are spread out \n",
      "\n",
      "===================\n",
      "Standardized moment\n",
      "In probability theory and statistics, the standardized moment of a probability distribution is a moment (normally a higher degree central moment) that is normalized. The normalization is typically a d\n",
      "\n",
      "===================\n"
     ]
    }
   ],
   "source": [
    "for doc in corpus: \n",
    "    print(doc.metadata['title'])\n",
    "    print(doc.text[:200])\n",
    "    print('\\n===================')"
   ]
  },
  {
   "cell_type": "markdown",
   "metadata": {},
   "source": [
    "# Building a Corpus"
   ]
  },
  {
   "cell_type": "code",
   "execution_count": 26,
   "metadata": {
    "code_folding": [
     0.0
    ]
   },
   "outputs": [],
   "source": [
    "# Create a list of page titles for concepts in Metacademy for 'Bayesian Statistics' \n",
    "page_titles = [\"Probability\", \n",
    "               \"Conditional probability\",\n",
    "               \"Random variable\",\n",
    "               \"Independence (probability theory)\",\n",
    "               \"Bayes' theorem\",\n",
    "               \"Conditional independence\",\n",
    "               \"Bayesian network\"]\n",
    "\n",
    "# Create a text and metadata stream from the page title\n",
    "text_stream, meta_stream = generate_streams(page_titles)\n",
    "\n",
    "# Create a corpus from the streams\n",
    "corpus = textacy.Corpus('en', texts = text_stream, metadatas = meta_stream)"
   ]
  },
  {
   "cell_type": "code",
   "execution_count": 35,
   "metadata": {
    "code_folding": [
     0.0
    ],
    "collapsed": true
   },
   "outputs": [
    {
     "name": "stdout",
     "output_type": "stream",
     "text": [
      "Probability\n",
      "\n",
      "--------------------\n",
      "coleman_liau_index 12.498033454888997\n",
      "smog_index 14.54030174652959\n",
      "flesch_kincaid_grade_level 12.659970288143601\n",
      "wiener_sachtextformel 8.155134155880965\n",
      "flesch_reading_ease 42.00300030703829\n",
      "gulpease_index 52.66556447803496\n",
      "automated_readability_index 12.943058573453001\n",
      "lix 51.35422295701464\n",
      "gunning_fog_index 16.00697024090695\n",
      "\n",
      "===================\n",
      "Conditional probability\n",
      "\n",
      "--------------------\n",
      "coleman_liau_index 6.381240776412778\n",
      "smog_index 10.143139726404613\n",
      "flesch_kincaid_grade_level 6.630764237779168\n",
      "wiener_sachtextformel 3.8414166489420225\n",
      "flesch_reading_ease 69.16247552165464\n",
      "gulpease_index 71.82555282555282\n",
      "automated_readability_index 4.364135465180244\n",
      "lix 33.218049800139354\n",
      "gunning_fog_index 9.822846455682278\n",
      "\n",
      "===================\n",
      "Random variable\n",
      "\n",
      "--------------------\n",
      "coleman_liau_index 8.33122063818658\n",
      "smog_index 11.61234203265564\n",
      "flesch_kincaid_grade_level 8.950928509154316\n",
      "wiener_sachtextformel 5.784822108957593\n",
      "flesch_reading_ease 57.08034979768854\n",
      "gulpease_index 64.93722755013079\n",
      "automated_readability_index 6.865022690183981\n",
      "lix 41.121867525093336\n",
      "gunning_fog_index 11.88030760288825\n",
      "\n",
      "===================\n",
      "Independence (probability theory)\n",
      "\n",
      "--------------------\n",
      "coleman_liau_index 8.296589909090908\n",
      "smog_index 13.312825808039673\n",
      "flesch_kincaid_grade_level 11.500828934506355\n",
      "wiener_sachtextformel 5.9567953470185735\n",
      "flesch_reading_ease 53.097910068426216\n",
      "gulpease_index 59.0\n",
      "automated_readability_index 10.282209188660804\n",
      "lix 43.163440860215054\n",
      "gunning_fog_index 14.6847311827957\n",
      "\n",
      "===================\n",
      "Bayes' theorem\n",
      "\n",
      "--------------------\n",
      "coleman_liau_index 8.063450382310986\n",
      "smog_index 11.20814326018867\n",
      "flesch_kincaid_grade_level 7.6779656181242295\n",
      "wiener_sachtextformel 5.515178974346576\n",
      "flesch_reading_ease 61.17742087574652\n",
      "gulpease_index 69.42796005706134\n",
      "automated_readability_index 5.621690804903409\n",
      "lix 38.34355279382964\n",
      "gunning_fog_index 11.485780603979789\n",
      "\n",
      "===================\n",
      "Conditional independence\n",
      "\n",
      "--------------------\n",
      "coleman_liau_index 6.846668734883725\n",
      "smog_index 10.171516880007248\n",
      "flesch_kincaid_grade_level 6.50002929866325\n",
      "wiener_sachtextformel 3.6618188518586336\n",
      "flesch_reading_ease 72.58272935359827\n",
      "gulpease_index 68.9186046511628\n",
      "automated_readability_index 5.2331884270280185\n",
      "lix 33.95028383080022\n",
      "gunning_fog_index 9.905694927668925\n",
      "\n",
      "===================\n",
      "Bayesian network\n",
      "\n",
      "--------------------\n",
      "coleman_liau_index 12.351126570271834\n",
      "smog_index 13.5591\n",
      "flesch_kincaid_grade_level 11.413321234119785\n",
      "wiener_sachtextformel 7.742243807130556\n",
      "flesch_reading_ease 48.63175438596494\n",
      "gulpease_index 53.68478889531521\n",
      "automated_readability_index 12.25019398629199\n",
      "lix 51.97304268629132\n",
      "gunning_fog_index 14.658505680647242\n",
      "\n",
      "===================\n"
     ]
    }
   ],
   "source": [
    "# Print out a doc titles and part of the contents \n",
    "# Readability indices don't seem to to be ordered in any meaningful way\n",
    "for doc in corpus: \n",
    "    print(doc.metadata['title'])\n",
    "    print('\\n--------------------')\n",
    "    # print(doc.text[:200])\n",
    "    ts = textacy.text_stats.TextStats(doc)\n",
    "    for i in ts.readability_stats:\n",
    "        print(i, ts.readability_stats[i])\n",
    "    print('\\n===================')"
   ]
  },
  {
   "cell_type": "code",
   "execution_count": null,
   "metadata": {},
   "outputs": [],
   "source": []
  }
 ],
 "metadata": {
  "kernelspec": {
   "display_name": "Python 3",
   "language": "python",
   "name": "python3"
  },
  "language_info": {
   "codemirror_mode": {
    "name": "ipython",
    "version": 3
   },
   "file_extension": ".py",
   "mimetype": "text/x-python",
   "name": "python",
   "nbconvert_exporter": "python",
   "pygments_lexer": "ipython3",
   "version": "3.5.3"
  },
  "varInspector": {
   "cols": {
    "lenName": 16.0,
    "lenType": 16.0,
    "lenVar": 40.0
   },
   "kernels_config": {
    "python": {
     "delete_cmd_postfix": "",
     "delete_cmd_prefix": "del ",
     "library": "var_list.py",
     "varRefreshCmd": "print(var_dic_list())"
    },
    "r": {
     "delete_cmd_postfix": ") ",
     "delete_cmd_prefix": "rm(",
     "library": "var_list.r",
     "varRefreshCmd": "cat(var_dic_list()) "
    }
   },
   "position": {
    "height": "413px",
    "left": "206px",
    "right": "434px",
    "top": "164px",
    "width": "800px"
   },
   "types_to_exclude": [
    "module",
    "function",
    "builtin_function_or_method",
    "instance",
    "_Feature"
   ],
   "window_display": true
  }
 },
 "nbformat": 4,
 "nbformat_minor": 2
}
