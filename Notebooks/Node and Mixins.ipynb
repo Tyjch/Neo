{
 "cells": [
  {
   "cell_type": "code",
   "execution_count": 1,
   "metadata": {},
   "outputs": [],
   "source": [
    "from py2neo.ogm import GraphObjectType, GraphObject, Property\n",
    "from datetime import datetime"
   ]
  },
  {
   "cell_type": "code",
   "execution_count": 2,
   "metadata": {},
   "outputs": [],
   "source": [
    "class Node(GraphObject):\n",
    "\n",
    "    __primarykey__ = 'pk'\n",
    "\n",
    "    title = Property()\n",
    "    pk = Property()\n",
    "\n",
    "    def __init__(self, title, label=\"Node\"):\n",
    "\n",
    "        self.title = title\n",
    "        self.pk = label + ':' + title\n",
    "\n",
    "        self.__primarylabel__ = label"
   ]
  },
  {
   "cell_type": "code",
   "execution_count": 3,
   "metadata": {},
   "outputs": [],
   "source": [
    "class TimeMixin(GraphObject):\n",
    "\n",
    "    created = Property()\n",
    "    updated = Property()\n",
    "\n",
    "    def __init__(self):\n",
    "        self.created = str(datetime.now())\n",
    "        self.updated = str(datetime.now())"
   ]
  },
  {
   "cell_type": "code",
   "execution_count": 4,
   "metadata": {},
   "outputs": [],
   "source": [
    "class WikiNode(TimeMixin, Node):\n",
    "    \n",
    "    def __init__(self):\n",
    "        super(WikiNode, self).__init__()"
   ]
  },
  {
   "cell_type": "code",
   "execution_count": 5,
   "metadata": {},
   "outputs": [],
   "source": [
    "node = WikiNode()"
   ]
  },
  {
   "cell_type": "code",
   "execution_count": 6,
   "metadata": {},
   "outputs": [
    {
     "name": "stdout",
     "output_type": "stream",
     "text": [
      "Node created: 2018-05-15 13:19:04.582191\n",
      "Node updated: 2018-05-15 13:19:04.582660\n",
      "Node __primarylabel__: WikiNode\n",
      "Node __primarykey__: __id__\n",
      "Node __primaryvalue__: None\n"
     ]
    }
   ],
   "source": [
    "print(\"Node created:\", node.created)\n",
    "print(\"Node updated:\", node.updated)\n",
    "print(\"Node __primarylabel__:\", node.__primarylabel__)\n",
    "print(\"Node __primarykey__:\", node.__primarykey__)\n",
    "print(\"Node __primaryvalue__:\", node.__primaryvalue__)"
   ]
  },
  {
   "cell_type": "code",
   "execution_count": null,
   "metadata": {},
   "outputs": [],
   "source": []
  }
 ],
 "metadata": {
  "kernelspec": {
   "display_name": "Python 3",
   "language": "python",
   "name": "python3"
  },
  "language_info": {
   "codemirror_mode": {
    "name": "ipython",
    "version": 3
   },
   "file_extension": ".py",
   "mimetype": "text/x-python",
   "name": "python",
   "nbconvert_exporter": "python",
   "pygments_lexer": "ipython3",
   "version": "3.6.5"
  }
 },
 "nbformat": 4,
 "nbformat_minor": 1
}
