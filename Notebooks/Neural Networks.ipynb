{
 "cells": [
  {
   "cell_type": "code",
   "execution_count": 59,
   "metadata": {},
   "outputs": [],
   "source": [
    "LABEL = 'CONCEPT'"
   ]
  },
  {
   "cell_type": "code",
   "execution_count": 60,
   "metadata": {
    "code_folding": [
     0.0,
     1.0,
     16.0,
     21.0,
     26.0,
     38.0,
     49.0
    ]
   },
   "outputs": [],
   "source": [
    "TRAIN_DATA = [\n",
    "    (\"A Bayesian network, Bayes network, belief network, Bayes(ian) model or probabilistic directed acyclic graphical \"\n",
    "     \"model is a probabilistic graphical model (a type of statistical model) that represents a set of variables and \"\n",
    "     \"their conditional dependencies via a directed acyclic graph (DAG).\", { \n",
    "        'entities': [(2, 18, 'CONCEPT'),\n",
    "                     (20, 33, 'CONCEPT'),\n",
    "                     (35, 49, 'CONCEPT'),\n",
    "                     (51, 67, 'CONCEPT'),\n",
    "                     (71, 117, 'CONCEPT'),\n",
    "                     (123, 152, 'CONCEPT'),\n",
    "                     (164, 181, 'CONCEPT'),\n",
    "                     (201, 204, 'CONCEPT'),\n",
    "                     (208, 216, 'CONCEPT'),\n",
    "                     (228, 251, 'CONCEPT'),\n",
    "                     (259, 280, 'CONCEPT'),\n",
    "                     (283, 285, 'CONCEPT')]\n",
    "    }),\n",
    "\n",
    "    (\"For example, a Bayesian network could represent the probabilistic relationships between diseases and symptoms. \", {\n",
    "        'entities': [(15, 30, 'CONCEPT'),\n",
    "                     (52, 78, 'CONCEPT')]\n",
    "    }),\n",
    "\n",
    "    (\"Given symptoms, the network can be used to compute the probabilities of the presence of various diseases.\", {\n",
    "        'entities': [(20, 26, 'CONCEPT'),\n",
    "                     (55, 67, 'CONCEPT')]\n",
    "    }),\n",
    "\n",
    "    (\"Formally, Bayesian networks are DAGs whose nodes represent variables in the Bayesian sense: they may be observable quantities, latent variables, unknown parameters or hypotheses.\", {\n",
    "        'entities': [(10, 26, 'CONCEPT'),\n",
    "                     (32, 35, 'CONCEPT'),\n",
    "                     (43, 47, 'CONCEPT'),\n",
    "                     (59, 67, 'CONCEPT'),\n",
    "                     (76, 83, 'CONCEPT'),\n",
    "                     (104, 124, 'CONCEPT'),\n",
    "                     (127, 142, 'CONCEPT'),\n",
    "                     (145, 162, 'CONCEPT'),\n",
    "                     (167, 176, 'CONCEPT')]\n",
    "    }),\n",
    "\n",
    "    (\"Edges represent conditional dependencies; nodes that are not connected (there is no path from one of the variables to the other in the Bayesian network) represent variables that are conditionally independent of each other.\", {\n",
    "        'entities': [(0, 4, 'CONCEPT'),\n",
    "                     (16, 39, 'CONCEPT'),\n",
    "                     (42, 46, 'CONCEPT'),\n",
    "                     (84, 87, 'CONCEPT'),\n",
    "                     (105, 113, 'CONCEPT'),\n",
    "                     (135, 150, 'CONCEPT'),\n",
    "                     (163, 171, 'CONCEPT'),\n",
    "                     (182, 206, 'CONCEPT')]\n",
    "    }),\n",
    "\n",
    "    (\"Each node is associated with a probability function that takes, as input, a particular set of values for the node's parent variables, and gives (as output) the probability (or probability distribution, if applicable) of the variable represented by the node.\", {\n",
    "        'entities': [(5, 8, 'CONCEPT'),\n",
    "                     (31, 50, 'CONCEPT'),\n",
    "                     (67, 71, 'CONCEPT'),\n",
    "                     (87, 89, 'CONCEPT'),\n",
    "                     (109, 112, 'CONCEPT'),\n",
    "                     (116, 131, 'CONCEPT'),\n",
    "                     (160, 170, 'CONCEPT'),\n",
    "                     (176, 199, 'CONCEPT'),\n",
    "                     (224, 231, 'CONCEPT'),\n",
    "                     (252, 255, 'CONCEPT')]\n",
    "    })\n",
    "]"
   ]
  },
  {
   "cell_type": "code",
   "execution_count": 77,
   "metadata": {
    "code_folding": [
     0.0
    ]
   },
   "outputs": [],
   "source": [
    "# Model Building \n",
    "\n",
    "import spacy\n",
    "import random\n",
    "\n",
    "def main(model = None, \n",
    "         new_model_name = 'concept',\n",
    "         output_dir = None,\n",
    "         n_iter = 20):\n",
    "    \n",
    "    # ============= Load or create a model ============= #\n",
    "    \n",
    "    if model is not None:\n",
    "        nlp = spacy.load(model)\n",
    "    else:\n",
    "        nlp = spacy.blank('en')\n",
    "        \n",
    "    # ============= Add entity recognizer ============== #\n",
    "    \n",
    "    if 'ner' not in nlp.pipe_names:\n",
    "        ner = nlp.create_pipe('ner')\n",
    "        nlp.add_pipe(ner)\n",
    "    else:\n",
    "        nlp.get_pipe('ner')\n",
    "        \n",
    "    # ============= Add new entity label =============== #\n",
    "    \n",
    "    ner.add_label(LABEL)\n",
    "    \n",
    "    # ================ Add optimizer =================== #\n",
    "    \n",
    "    if model is None:\n",
    "        optimizer = nlp.begin_training()\n",
    "    else:\n",
    "        optimizer = nlp.entity.create_optimizer()\n",
    "        \n",
    "    # ============= Disable other pipes ================ #\n",
    "    \n",
    "    other_pipes = [pipe for pipe in nlp.pipe_names if pipe != 'ner']\n",
    "    with nlp.disable_pipes(*other_pipes):  # only train NER\n",
    "        for itn in range(n_iter):\n",
    "            random.shuffle(TRAIN_DATA)\n",
    "            losses = {}\n",
    "            for text, annotations in TRAIN_DATA:\n",
    "                nlp.update([text], [annotations], sgd=optimizer, drop=0.35,\n",
    "                           losses=losses)\n",
    "            # print(losses)\n",
    "    \n",
    "    # ============== Test the Model ==================== #\n",
    "    \n",
    "    test_text = \"Are Bayesian networks a concept? How about linear algebra? Are horses a concept?\"\n",
    "    \n",
    "    doc = nlp(test_text)\n",
    "    print(\"Entities in '%s'\" % test_text)\n",
    "    for ent in doc.ents:\n",
    "        print(ent.label_, ent.text)\n",
    "        \n",
    "    # =============== Save the Model =================== #\n",
    "    \n",
    "    if output_dir is not None:\n",
    "        output_dir = Path(output_dir)\n",
    "        if not output_dir.exists():\n",
    "            output_dir.mkdir()\n",
    "        nlp.meta['name'] = new_model_name  # rename model\n",
    "        nlp.to_disk(output_dir)\n",
    "        print(\"Saved model to\", output_dir)\n",
    "\n",
    "        # test the saved model\n",
    "        print(\"Loading from\", output_dir)\n",
    "        nlp2 = spacy.load(output_dir)\n",
    "        doc2 = nlp2(test_text)\n",
    "        for ent in doc2.ents:\n",
    "            print(ent.label_, ent.text)"
   ]
  },
  {
   "cell_type": "code",
   "execution_count": 78,
   "metadata": {},
   "outputs": [
    {
     "name": "stdout",
     "output_type": "stream",
     "text": [
      "Entities in 'Are Bayesian networks a concept? How about linear algebra? Are horses a concept?'\n",
      "CONCEPT Bayesian networks\n"
     ]
    }
   ],
   "source": [
    "main()"
   ]
  }
 ],
 "metadata": {
  "kernelspec": {
   "display_name": "Python 3",
   "language": "python",
   "name": "python3"
  },
  "language_info": {
   "codemirror_mode": {
    "name": "ipython",
    "version": 3
   },
   "file_extension": ".py",
   "mimetype": "text/x-python",
   "name": "python",
   "nbconvert_exporter": "python",
   "pygments_lexer": "ipython3",
   "version": "3.5.3"
  },
  "varInspector": {
   "cols": {
    "lenName": 16.0,
    "lenType": 16.0,
    "lenVar": 40.0
   },
   "kernels_config": {
    "python": {
     "delete_cmd_postfix": "",
     "delete_cmd_prefix": "del ",
     "library": "var_list.py",
     "varRefreshCmd": "print(var_dic_list())"
    },
    "r": {
     "delete_cmd_postfix": ") ",
     "delete_cmd_prefix": "rm(",
     "library": "var_list.r",
     "varRefreshCmd": "cat(var_dic_list()) "
    }
   },
   "types_to_exclude": [
    "module",
    "function",
    "builtin_function_or_method",
    "instance",
    "_Feature"
   ],
   "window_display": false
  }
 },
 "nbformat": 4,
 "nbformat_minor": 2
}
