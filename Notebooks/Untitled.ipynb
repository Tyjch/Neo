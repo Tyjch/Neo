{
 "cells": [
  {
   "cell_type": "code",
   "execution_count": null,
   "metadata": {},
   "outputs": [],
   "source": [
    "# Imports\n",
    "from py2neo import Graph\n",
    "from neo.graph.data import Node\n",
    "from py2neo.ogm import GraphObject, Property, Label, Related, RelatedTo, RelatedFrom, RelatedObjects"
   ]
  },
  {
   "cell_type": "code",
   "execution_count": 20,
   "metadata": {},
   "outputs": [],
   "source": [
    "graph = Graph(password = 'password')"
   ]
  },
  {
   "cell_type": "code",
   "execution_count": 14,
   "metadata": {
    "code_folding": [
     0.0
    ]
   },
   "outputs": [],
   "source": [
    "class Node(GraphObject):\n",
    "    \"\"\"\n",
    "    A node in the graph, should only be used to represent nodes that can't be parsed\n",
    "\n",
    "    Main attributes:\n",
    "        children - a list of nodes this node is related to\n",
    "        parents - a list of nodes that contain this node\n",
    "        depth - minimum number of edges away from a root node\n",
    "        graph - the graph this node belongs to\n",
    "    \"\"\"\n",
    "    \n",
    "    def __init__(self, graph=graph):\n",
    "        self.children = None\n",
    "        self.parents = None\n",
    "        self.depth = 0\n",
    "        self.graph = graph"
   ]
  },
  {
   "cell_type": "code",
   "execution_count": 15,
   "metadata": {},
   "outputs": [],
   "source": [
    "node = Node()"
   ]
  },
  {
   "cell_type": "code",
   "execution_count": null,
   "metadata": {},
   "outputs": [],
   "source": []
  }
 ],
 "metadata": {
  "kernelspec": {
   "display_name": "Python 3",
   "language": "python",
   "name": "python3"
  },
  "language_info": {
   "codemirror_mode": {
    "name": "ipython",
    "version": 3
   },
   "file_extension": ".py",
   "mimetype": "text/x-python",
   "name": "python",
   "nbconvert_exporter": "python",
   "pygments_lexer": "ipython3",
   "version": "3.5.3"
  },
  "varInspector": {
   "cols": {
    "lenName": 16.0,
    "lenType": 16.0,
    "lenVar": 40.0
   },
   "kernels_config": {
    "python": {
     "delete_cmd_postfix": "",
     "delete_cmd_prefix": "del ",
     "library": "var_list.py",
     "varRefreshCmd": "print(var_dic_list())"
    },
    "r": {
     "delete_cmd_postfix": ") ",
     "delete_cmd_prefix": "rm(",
     "library": "var_list.r",
     "varRefreshCmd": "cat(var_dic_list()) "
    }
   },
   "position": {
    "height": "262px",
    "left": "557.4000244140625px",
    "right": "9.600000381469727px",
    "top": "94px",
    "width": "423px"
   },
   "types_to_exclude": [
    "module",
    "function",
    "builtin_function_or_method",
    "instance",
    "_Feature"
   ],
   "window_display": false
  }
 },
 "nbformat": 4,
 "nbformat_minor": 2
}
