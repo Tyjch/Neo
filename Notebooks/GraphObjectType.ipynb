{
 "cells": [
  {
   "cell_type": "code",
   "execution_count": 1,
   "metadata": {},
   "outputs": [],
   "source": [
    "from py2neo.ogm import GraphObjectType, GraphObject, Property"
   ]
  },
  {
   "cell_type": "markdown",
   "metadata": {},
   "source": [
    "## Base Classes"
   ]
  },
  {
   "cell_type": "code",
   "execution_count": 2,
   "metadata": {},
   "outputs": [],
   "source": [
    "from py2neo import Database\n",
    "from py2neo.ogm import GraphObject, Property\n",
    "import datetime"
   ]
  },
  {
   "cell_type": "code",
   "execution_count": 3,
   "metadata": {},
   "outputs": [],
   "source": [
    "class Node(GraphObject):\n",
    "\n",
    "    __primarykey__ = 'pk'\n",
    "\n",
    "    title = Property()\n",
    "    pk = Property()\n",
    "\n",
    "    def __init__(self, title, label=\"Node\"):\n",
    "\n",
    "        self.title = title\n",
    "        self.pk = label + ':' + title\n",
    "\n",
    "        self.__primarylabel__ = label"
   ]
  },
  {
   "cell_type": "code",
   "execution_count": 4,
   "metadata": {},
   "outputs": [],
   "source": [
    "class TimeMixin(GraphObject):\n",
    "\n",
    "    created = Property()\n",
    "    updated = Property()\n",
    "\n",
    "    def __init__(self):\n",
    "        self.created = str(datetime.datetime.now())\n",
    "        self.updated = str(datetime.datetime.now())"
   ]
  },
  {
   "cell_type": "markdown",
   "metadata": {},
   "source": [
    "## MetaClass"
   ]
  },
  {
   "cell_type": "code",
   "execution_count": 2,
   "metadata": {},
   "outputs": [
    {
     "ename": "TypeError",
     "evalue": "__new__() missing 3 required positional arguments: 'name', 'bases', and 'attributes'",
     "output_type": "error",
     "traceback": [
      "\u001b[0;31m---------------------------------------------------------------------------\u001b[0m",
      "\u001b[0;31mTypeError\u001b[0m                                 Traceback (most recent call last)",
      "\u001b[0;32m<ipython-input-2-2b111d202434>\u001b[0m in \u001b[0;36m<module>\u001b[0;34m()\u001b[0m\n\u001b[0;32m----> 1\u001b[0;31m \u001b[0mogtype\u001b[0m \u001b[0;34m=\u001b[0m \u001b[0mGraphObjectType\u001b[0m\u001b[0;34m(\u001b[0m\u001b[0;34m)\u001b[0m\u001b[0;34m\u001b[0m\u001b[0m\n\u001b[0m",
      "\u001b[0;31mTypeError\u001b[0m: __new__() missing 3 required positional arguments: 'name', 'bases', and 'attributes'"
     ]
    }
   ],
   "source": [
    "name = 'TimeNode'\n",
    "bases = [Node, TimeMixin]\n",
    "\n",
    "ogtype = GraphObjectType()"
   ]
  }
 ],
 "metadata": {
  "kernelspec": {
   "display_name": "Python 3",
   "language": "python",
   "name": "python3"
  },
  "language_info": {
   "codemirror_mode": {
    "name": "ipython",
    "version": 3
   },
   "file_extension": ".py",
   "mimetype": "text/x-python",
   "name": "python",
   "nbconvert_exporter": "python",
   "pygments_lexer": "ipython3",
   "version": "3.6.5"
  }
 },
 "nbformat": 4,
 "nbformat_minor": 2
}
