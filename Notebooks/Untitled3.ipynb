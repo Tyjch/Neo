{
 "cells": [
  {
   "cell_type": "code",
   "execution_count": 39,
   "metadata": {},
   "outputs": [],
   "source": [
    "from wikipedia import WikipediaPage\n",
    "from py2neo import Graph, Relationship\n",
    "from py2neo.ogm import GraphObject, Property, Label, Related, RelatedTo, RelatedFrom, RelatedObjects"
   ]
  },
  {
   "cell_type": "code",
   "execution_count": 40,
   "metadata": {},
   "outputs": [],
   "source": [
    "graph = Graph(password = 'password')"
   ]
  },
  {
   "cell_type": "code",
   "execution_count": 77,
   "metadata": {
    "code_folding": [
     9,
     15
    ]
   },
   "outputs": [],
   "source": [
    "class WikiNode(GraphObject): \n",
    "    # __primarylabel__ = \"Category\"\n",
    "    \n",
    "    title = Property()\n",
    "    depth = Property()\n",
    "    \n",
    "    has_category = RelatedTo(\"WikiNode\")\n",
    "    has_article = RelatedTo(\"WikiNode\")\n",
    "    \n",
    "    def __init__(self, title, graph=graph, depth=0, label = \"Article\"): \n",
    "        self.__primarylabel__ = label\n",
    "        self.title = title\n",
    "        self.depth = 0\n",
    "        graph.push(self)\n",
    "    \n",
    "    def get_categories(self, graph=graph): \n",
    "        \n",
    "        wikipage = WikipediaPage(self.title)\n",
    "        \n",
    "        prefix = \"Category:\"\n",
    "         \n",
    "        for category in wikipage.categories:\n",
    "            \n",
    "            title = prefix + category\n",
    "            category = WikiNode(title, label = \"Category\")\n",
    "            category.depth = self.depth + 1\n",
    "            \n",
    "            graph.create(category)\n",
    "            graph.push(category)\n",
    "            \n",
    "            self.has_category.add(category)\n",
    "            graph.push(self)\n",
    "            \n",
    "    def get_articles(self, graph=graph): \n",
    "        \n",
    "        wikipage = WikipediaPage(self.title)\n",
    "        print(wikipage.links)\n",
    "        \n",
    "        for article in wikipage.links:\n",
    "            \n",
    "            article = WikiNode(article, label = \"Article\")\n",
    "            article.depth = self.depth + 1\n",
    "            \n",
    "            graph.create(article)\n",
    "            graph.push(article)\n",
    "            \n",
    "            self.has_article.add(article)\n",
    "            graph.push(self)"
   ]
  },
  {
   "cell_type": "code",
   "execution_count": 86,
   "metadata": {},
   "outputs": [
    {
     "name": "stdout",
     "output_type": "stream",
     "text": [
      "['Bayesian network']\n"
     ]
    }
   ],
   "source": [
    "graph.delete_all()\n",
    "cat = WikiNode(\"Category:Bayesian networks\", label = \"Category\")\n",
    "cat.get_categories()\n",
    "cat.get_articles()"
   ]
  },
  {
   "cell_type": "code",
   "execution_count": 85,
   "metadata": {},
   "outputs": [],
   "source": []
  },
  {
   "cell_type": "code",
   "execution_count": null,
   "metadata": {},
   "outputs": [],
   "source": []
  }
 ],
 "metadata": {
  "kernelspec": {
   "display_name": "Python 3",
   "language": "python",
   "name": "python3"
  },
  "language_info": {
   "codemirror_mode": {
    "name": "ipython",
    "version": 3
   },
   "file_extension": ".py",
   "mimetype": "text/x-python",
   "name": "python",
   "nbconvert_exporter": "python",
   "pygments_lexer": "ipython3",
   "version": "3.5.3"
  },
  "varInspector": {
   "cols": {
    "lenName": 16,
    "lenType": 16,
    "lenVar": 40
   },
   "kernels_config": {
    "python": {
     "delete_cmd_postfix": "",
     "delete_cmd_prefix": "del ",
     "library": "var_list.py",
     "varRefreshCmd": "print(var_dic_list())"
    },
    "r": {
     "delete_cmd_postfix": ") ",
     "delete_cmd_prefix": "rm(",
     "library": "var_list.r",
     "varRefreshCmd": "cat(var_dic_list()) "
    }
   },
   "position": {
    "height": "367px",
    "left": "-5.65625px",
    "right": "92.32291412353516px",
    "top": "107px",
    "width": "647px"
   },
   "types_to_exclude": [
    "module",
    "function",
    "builtin_function_or_method",
    "instance",
    "_Feature"
   ],
   "window_display": true
  }
 },
 "nbformat": 4,
 "nbformat_minor": 2
}
