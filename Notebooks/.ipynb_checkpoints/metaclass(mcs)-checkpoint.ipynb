{
 "cells": [
  {
   "cell_type": "code",
   "execution_count": null,
   "metadata": {},
   "outputs": [],
   "source": [
    "# Function 'metaclass' from 'util.py' in 'py2neo.internal' \n",
    "\n",
    "# Define a new function,'metaclass', that hasone parameter 'mcs'\n",
    "def metaclass(mcs):\n",
    "    # Define a new function,'_metaclass', that has parameter 'cls'\n",
    "    def _metaclass(cls):\n",
    "        # '__dict__' returns a dictionary of identifiers and their associated objects\n",
    "        # 'copy()' creates a new object that is identical to the original except it's separate\n",
    "        attributes = cls.__dict__.copy()\n",
    "        \n",
    "        # 'attributes' is a 'dict', and 'dict.get(key)' returns the associated value\n",
    "        # If 'key' does not exist in 'dict', then returns 'None'\n",
    "        slots = attributes.get(\"__slots__\")\n",
    "        \n",
    "        # If the value of 'slots' is not None ...\n",
    "        if slots is not None:\n",
    "            \n",
    "            # Then if 'slots' is an instance of 'str' ...\n",
    "            if isinstance(slots, str):\n",
    "                \n",
    "                # Then convert the string 'slots' into a list created from the string 'slots'\n",
    "                slots = [slots]\n",
    "                \n",
    "            # For every element 'slot' in the list 'slots' ...    \n",
    "            for slot in slots:\n",
    "                \n",
    "                # Then remove and return the value associated with 'slot' in 'attributes'\n",
    "                attributes.pop(slot)\n",
    "                \n",
    "        # Remove and return the value associated with '__dict__' in 'attributes'\n",
    "        attributes.pop(\"__dict__\", None)\n",
    "        \n",
    "        # Remove and return the value associated with '__weakref__' in 'attributes'\n",
    "        attributes.pop(\"__weakref__\", None)\n",
    "        \n",
    "        # Return 'mcs' with the name of class, its bases, and its attributes\n",
    "        return mcs(cls.__name__, cls.__bases__, attributes)\n",
    "    \n",
    "    # Return the hidden function '_metaclass'\n",
    "    return _metaclass"
   ]
  }
 ],
 "metadata": {
  "kernelspec": {
   "display_name": "Python 3",
   "language": "python",
   "name": "python3"
  },
  "language_info": {
   "codemirror_mode": {
    "name": "ipython",
    "version": 3
   },
   "file_extension": ".py",
   "mimetype": "text/x-python",
   "name": "python",
   "nbconvert_exporter": "python",
   "pygments_lexer": "ipython3",
   "version": "3.6.5"
  }
 },
 "nbformat": 4,
 "nbformat_minor": 2
}
