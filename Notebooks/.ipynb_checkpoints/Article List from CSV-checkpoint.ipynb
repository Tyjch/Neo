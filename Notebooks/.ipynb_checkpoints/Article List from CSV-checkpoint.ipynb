{
 "cells": [
  {
   "cell_type": "code",
   "execution_count": null,
   "metadata": {
    "code_folding": []
   },
   "outputs": [],
   "source": [
    "# Starting points \n",
    "import csv\n",
    "import wikipedia\n",
    "import spacy\n",
    "import textacy\n",
    "import datetime\n",
    "\n",
    "wikipedia.set_rate_limiting(True, min_wait=datetime.timedelta(0, 0, 5000000))\n",
    "\n",
    "filepath = 'articles.csv'\n",
    "corpus_savepath = 'wikicorpus'"
   ]
  },
  {
   "cell_type": "code",
   "execution_count": null,
   "metadata": {
    "code_folding": []
   },
   "outputs": [],
   "source": [
    "def list_from_csv(filepath): \n",
    "    csvlist = []\n",
    "    with open(filepath, newline='\\n') as csvfile:\n",
    "        article_reader = csv.reader(csvfile, dialect='excel')\n",
    "        for row in article_reader:\n",
    "            csvlist.append(row)\n",
    "            \n",
    "    del csvlist[0]\n",
    "    return csvlist"
   ]
  },
  {
   "cell_type": "code",
   "execution_count": 3,
   "metadata": {},
   "outputs": [],
   "source": [
    "articles = list_from_csv(filepath)\n",
    "# print(articles[:10])"
   ]
  },
  {
   "cell_type": "code",
   "execution_count": 4,
   "metadata": {
    "scrolled": false
   },
   "outputs": [],
   "source": [
    "corpus = textacy.Corpus('en')"
   ]
  },
  {
   "cell_type": "code",
   "execution_count": 5,
   "metadata": {
    "code_folding": [
     1
    ]
   },
   "outputs": [
    {
     "data": {
      "text/plain": [
       "'\\nfor article in articles[:100]:\\n    \\n    try:\\n        wikipage = wikipedia.WikipediaPage(article)\\n    \\n        content = wikipage.content\\n        metadata = {\"name\": article}\\n    \\n        corpus.add_text(content, metadata=metadata)\\n        \\n    except AssertionError:\\n        continue\\n'"
      ]
     },
     "execution_count": 5,
     "metadata": {},
     "output_type": "execute_result"
    }
   ],
   "source": [
    "\"\"\"\n",
    "for article in articles[:100]:\n",
    "    \n",
    "    try:\n",
    "        wikipage = wikipedia.WikipediaPage(article)\n",
    "    \n",
    "        content = wikipage.content\n",
    "        metadata = {\"name\": article}\n",
    "    \n",
    "        corpus.add_text(content, metadata=metadata)\n",
    "        \n",
    "    except AssertionError:\n",
    "        continue\n",
    "\"\"\""
   ]
  },
  {
   "cell_type": "code",
   "execution_count": 6,
   "metadata": {},
   "outputs": [
    {
     "data": {
      "text/plain": [
       "Corpus(0 docs; 0 tokens)"
      ]
     },
     "execution_count": 6,
     "metadata": {},
     "output_type": "execute_result"
    }
   ],
   "source": [
    "corpus"
   ]
  },
  {
   "cell_type": "code",
   "execution_count": null,
   "metadata": {
    "code_folding": []
   },
   "outputs": [],
   "source": [
    "def batch_load_texts(corpus, text_list, batch_size=5):\n",
    "    iterable = text_list[:]\n",
    "    length = len(iterable)\n",
    "    batches = length // batch_size\n",
    "    \n",
    "    for i in range(batches):\n",
    "        min_slice = i * (batch_size + 1)\n",
    "        max_slice = min_slice + batch_size\n",
    "        \n",
    "        for article in iterable[min_slice: max_slice]:\n",
    "            try:\n",
    "                wikipage = wikipedia.WikipediaPage(article)\n",
    "                corpus.add_text(wikipage.content, metadata = {\"name\": article})\n",
    "                print(corpus)\n",
    "                print(article)\n",
    "            except:\n",
    "                continue\n",
    "        \n",
    "        \n",
    "        '''\n",
    "        batch_size = 5\n",
    "        batch 0:      min = 0,   max = 5    \n",
    "        batch 1:      min = 6,   max = 11   min = i + batch_size,        max = 2 * batch_size + 1\n",
    "        batch 2:      min = 12,  max = 17   min = i * (batch_size + 1)\n",
    "        \n",
    "        batch_size = 10\n",
    "        batch 0:      min = 0,   max = 10\n",
    "        batch 1:      min = 11,  max = 21\n",
    "        batch 2:      min = 22,  max = 32\n",
    "        \n",
    "        batch_size = n\n",
    "        batch i:        min = i,             max = min + n\n",
    "        batch i + 1:    min = i * (n + 1)    max = min + n\n",
    "        batch i + 2:\n",
    "        '''"
   ]
  },
  {
   "cell_type": "code",
   "execution_count": null,
   "metadata": {},
   "outputs": [],
   "source": [
    "batch_load_texts(corpus, articles[:1000])\n",
    "corpus.save(corpus_savepath)"
   ]
  },
  {
   "cell_type": "code",
   "execution_count": null,
   "metadata": {},
   "outputs": [],
   "source": []
  }
 ],
 "metadata": {
  "kernelspec": {
   "display_name": "Python 3",
   "language": "python",
   "name": "python3"
  },
  "language_info": {
   "codemirror_mode": {
    "name": "ipython",
    "version": 3
   },
   "file_extension": ".py",
   "mimetype": "text/x-python",
   "name": "python",
   "nbconvert_exporter": "python",
   "pygments_lexer": "ipython3",
   "version": "3.6.5"
  },
  "toc": {
   "base_numbering": 1,
   "nav_menu": {},
   "number_sections": true,
   "sideBar": true,
   "skip_h1_title": false,
   "title_cell": "Table of Contents",
   "title_sidebar": "Contents",
   "toc_cell": false,
   "toc_position": {},
   "toc_section_display": true,
   "toc_window_display": false
  },
  "varInspector": {
   "cols": {
    "lenName": 16,
    "lenType": 16,
    "lenVar": 40
   },
   "kernels_config": {
    "python": {
     "delete_cmd_postfix": "",
     "delete_cmd_prefix": "del ",
     "library": "var_list.py",
     "varRefreshCmd": "print(var_dic_list())"
    },
    "r": {
     "delete_cmd_postfix": ") ",
     "delete_cmd_prefix": "rm(",
     "library": "var_list.r",
     "varRefreshCmd": "cat(var_dic_list()) "
    }
   },
   "types_to_exclude": [
    "module",
    "function",
    "builtin_function_or_method",
    "instance",
    "_Feature"
   ],
   "window_display": false
  }
 },
 "nbformat": 4,
 "nbformat_minor": 1
}
