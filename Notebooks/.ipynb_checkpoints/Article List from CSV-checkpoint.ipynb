{
 "cells": [
  {
   "cell_type": "code",
   "execution_count": 1,
   "metadata": {
    "code_folding": []
   },
   "outputs": [],
   "source": [
    "# Starting points \n",
    "import csv\n",
    "import wikipedia\n",
    "import spacy\n",
    "import textacy\n",
    "import textacy.keyterms\n",
    "import datetime\n",
    "\n",
    "wikipedia.set_rate_limiting(True, min_wait=datetime.timedelta(0, 0, 5000000))\n",
    "\n",
    "filepath = 'articles.csv'\n",
    "corpus_savepath = 'wikicorpus'"
   ]
  },
  {
   "cell_type": "code",
   "execution_count": 2,
   "metadata": {
    "code_folding": [
     0
    ]
   },
   "outputs": [],
   "source": [
    "def list_from_csv(filepath):\n",
    "    csvlist = []\n",
    "    with open(filepath, newline='\\n') as csvfile:\n",
    "        article_reader = csv.reader(csvfile, dialect='excel')\n",
    "        for row in article_reader:\n",
    "            csvlist.append(row)\n",
    "            \n",
    "    del csvlist[0]\n",
    "    return csvlist"
   ]
  },
  {
   "cell_type": "code",
   "execution_count": 3,
   "metadata": {},
   "outputs": [],
   "source": [
    "articles = list_from_csv(filepath)\n",
    "# print(articles[:10])"
   ]
  },
  {
   "cell_type": "code",
   "execution_count": 4,
   "metadata": {
    "scrolled": false
   },
   "outputs": [],
   "source": [
    "corpus = textacy.Corpus('en')"
   ]
  },
  {
   "cell_type": "code",
   "execution_count": 5,
   "metadata": {},
   "outputs": [
    {
     "data": {
      "text/plain": [
       "Corpus(0 docs; 0 tokens)"
      ]
     },
     "execution_count": 5,
     "metadata": {},
     "output_type": "execute_result"
    }
   ],
   "source": [
    "corpus"
   ]
  },
  {
   "cell_type": "code",
   "execution_count": 6,
   "metadata": {
    "code_folding": [
     0
    ]
   },
   "outputs": [],
   "source": [
    "def batch_load_texts(corpus, text_list, batch_size=5):\n",
    "    iterable = text_list[:]\n",
    "    length = len(iterable)\n",
    "    batches = length // batch_size\n",
    "    \n",
    "    for i in range(batches):\n",
    "        min_slice = i * (batch_size + 1)\n",
    "        max_slice = min_slice + batch_size\n",
    "        \n",
    "        for article in iterable[min_slice: max_slice]:\n",
    "            try:\n",
    "                wikipage = wikipedia.WikipediaPage(article)\n",
    "                corpus.add_text(wikipage.content, metadata = {\"name\": article})\n",
    "                print(corpus)\n",
    "                print(article)\n",
    "            except:\n",
    "                continue\n",
    "        \n",
    "        '''\n",
    "        batch_size = 5\n",
    "        batch 0:      min = 0,   max = 5    \n",
    "        batch 1:      min = 6,   max = 11   min = i + batch_size,        max = 2 * batch_size + 1\n",
    "        batch 2:      min = 12,  max = 17   min = i * (batch_size + 1)\n",
    "        \n",
    "        batch_size = 10\n",
    "        batch 0:      min = 0,   max = 10\n",
    "        batch 1:      min = 11,  max = 21\n",
    "        batch 2:      min = 22,  max = 32\n",
    "        \n",
    "        batch_size = n\n",
    "        batch i:        min = i,             max = min + n\n",
    "        batch i + 1:    min = i * (n + 1)    max = min + n\n",
    "        batch i + 2:\n",
    "        '''"
   ]
  },
  {
   "cell_type": "code",
   "execution_count": 7,
   "metadata": {},
   "outputs": [
    {
     "name": "stdout",
     "output_type": "stream",
     "text": [
      "Corpus(1 docs; 923 tokens)\n",
      "['Outline of mathematics']\n",
      "Corpus(2 docs; 7181 tokens)\n",
      "['Mathematics']\n",
      "Corpus(3 docs; 7181 tokens)\n",
      "['Portal:Contents/Mathematics and logic']\n",
      "Corpus(4 docs; 8035 tokens)\n",
      "['Legendre moment']\n",
      "Corpus(5 docs; 8247 tokens)\n",
      "['User:SwathiSreeLuke7']\n",
      "Corpus(6 docs; 13338 tokens)\n",
      "['Data-driven control system']\n",
      "Corpus(7 docs; 15453 tokens)\n",
      "['Pure mathematics']\n",
      "Corpus(8 docs; 15654 tokens)\n",
      "['Physical mathematics']\n",
      "Corpus(9 docs; 17506 tokens)\n",
      "['Mathematics Subject Classification']\n"
     ]
    }
   ],
   "source": [
    "batch_load_texts(corpus, articles[:10])\n",
    "corpus.save(corpus_savepath)"
   ]
  },
  {
   "cell_type": "code",
   "execution_count": 9,
   "metadata": {},
   "outputs": [
    {
     "name": "stdout",
     "output_type": "stream",
     "text": [
      "Doc(923 tokens; \"Mathematics is a field of study that investigat...\")\n",
      "[('number', 0.06908142214698697), ('science', 0.0596557577621979), ('theory', 0.054275944527853205), ('discrete mathematic', 0.05337183932328035), ('mathematical', 0.048935627621927776)]\n",
      "\n",
      "\n",
      "Doc(6258 tokens; \"Mathematics (from Greek μάθημα máthēma, \"knowle...\")\n",
      "[('mathematical', 0.09112864559046843), ('mathematic', 0.06741666897680332), ('number theory', 0.06190268140297412), ('study', 0.059156191397581714), ('mathematician', 0.04346600543849723)]\n",
      "\n",
      "\n",
      "Doc(0 tokens; \"\")\n",
      "[]\n",
      "\n",
      "\n",
      "Doc(854 tokens; \"In mathematics, Legendre moments are a type of ...\")\n",
      "[('legendre moment', 0.18767484102084847), ('legendre polynomial', 0.17157093699326562), ('intensity function f(x', 0.06745579327176407), ('moment calculation complexity', 0.05361521846829209), ('image moment', 0.03757423091453614)]\n",
      "\n",
      "\n",
      "Doc(212 tokens; \"Jobin Geoge [ aka JGM ] is an Indian Math magic...\")\n",
      "[('indian math magician', 0.12379554539024905), ('jgm', 0.09101772454563008), ('personality development', 0.06587101480313688), ('elder brother', 0.059167838060223084), ('jobin geoge', 0.05179764602228607)]\n",
      "\n",
      "\n",
      "Doc(5091 tokens; \"Data-driven control systems are a broad family ...\")\n",
      "[('optimization problem', 0.11121583858839246), ('\\\\displaystyle', 0.10460009505224026), ('\\\\rho \\\\in d_{k}}{\\\\operatorname', 0.07788034207203247), ('controller', 0.06649304442367417), ('experimental datum', 0.05669862400410248)]\n",
      "\n",
      "\n",
      "Doc(2115 tokens; \"Broadly speaking, pure mathematics is mathemati...\")\n",
      "[('pure mathematic', 0.27371870183690733), ('applied mathematician', 0.09135886515777905), ('real world', 0.09009393976327859), ('pure', 0.049428901168633174), ('study', 0.044153196020724164)]\n",
      "\n",
      "\n",
      "Doc(201 tokens; \"The subject of physical mathematics is concerne...\")\n",
      "[('mathematical physics', 0.13578654996008047), ('theorist greg moore', 0.10624033513375888), ('physical mathematics', 0.07842173465121768), ('analytic number theory', 0.07793589203893037), ('string theorist greg', 0.058457964046704794)]\n",
      "\n",
      "\n",
      "Doc(1852 tokens; \"The Mathematics Subject Classification (MSC) is...\")\n",
      "[('mathematics subject classification', 0.39881841074159113), ('second level code', 0.08696989468423001), ('classification scheme', 0.05852041863603607), ('differential geometry', 0.03428403966560767), ('mathematical', 0.029791445574318877)]\n",
      "\n",
      "\n"
     ]
    }
   ],
   "source": [
    "for doc in corpus:\n",
    "    kt = textacy.keyterms.sgrank(doc, ngrams=(1,2,3), window_width=100, n_keyterms=5)\n",
    "    print(doc)\n",
    "    print(kt)\n",
    "    print('\\n')"
   ]
  },
  {
   "cell_type": "code",
   "execution_count": null,
   "metadata": {},
   "outputs": [],
   "source": []
  },
  {
   "cell_type": "code",
   "execution_count": null,
   "metadata": {},
   "outputs": [],
   "source": []
  }
 ],
 "metadata": {
  "kernelspec": {
   "display_name": "Python 3",
   "language": "python",
   "name": "python3"
  },
  "language_info": {
   "codemirror_mode": {
    "name": "ipython",
    "version": 3
   },
   "file_extension": ".py",
   "mimetype": "text/x-python",
   "name": "python",
   "nbconvert_exporter": "python",
   "pygments_lexer": "ipython3",
   "version": "3.5.3"
  },
  "toc": {
   "base_numbering": 1,
   "nav_menu": {},
   "number_sections": true,
   "sideBar": true,
   "skip_h1_title": false,
   "title_cell": "Table of Contents",
   "title_sidebar": "Contents",
   "toc_cell": false,
   "toc_position": {},
   "toc_section_display": true,
   "toc_window_display": false
  },
  "varInspector": {
   "cols": {
    "lenName": 16,
    "lenType": 16,
    "lenVar": 40
   },
   "kernels_config": {
    "python": {
     "delete_cmd_postfix": "",
     "delete_cmd_prefix": "del ",
     "library": "var_list.py",
     "varRefreshCmd": "print(var_dic_list())"
    },
    "r": {
     "delete_cmd_postfix": ") ",
     "delete_cmd_prefix": "rm(",
     "library": "var_list.r",
     "varRefreshCmd": "cat(var_dic_list()) "
    }
   },
   "types_to_exclude": [
    "module",
    "function",
    "builtin_function_or_method",
    "instance",
    "_Feature"
   ],
   "window_display": true
  }
 },
 "nbformat": 4,
 "nbformat_minor": 1
}
