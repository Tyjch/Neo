{
 "cells": [
  {
   "cell_type": "code",
   "execution_count": 93,
   "metadata": {},
   "outputs": [],
   "source": [
    "from textacy.datasets import Wikipedia\n",
    "from dataset import get_related_pages"
   ]
  },
  {
   "cell_type": "code",
   "execution_count": null,
   "metadata": {
    "code_folding": [
     11.0,
     13.0,
     20.0,
     25.0
    ]
   },
   "outputs": [],
   "source": [
    "class Dataset(Wikipedia):\n",
    "    def __init__(self, category_filter = set(), title_filter = set()):\n",
    "        self.category_filter = category_filter\n",
    "        self.title_filter = title_filter\n",
    "\n",
    "    def generate_stream(self,\n",
    "                        category_filter = set(), \n",
    "                        title_filter = set(),\n",
    "                        limit = 5,\n",
    "                        fast = True):\n",
    "        \n",
    "        if not Bool(category_filter):\n",
    "            category_filter = self.category_filter\n",
    "        if not Bool(title_filter):\n",
    "            title_filter = self.title_filter\n",
    "\n",
    "        for record in self.records(limit=limit, fast=fast):\n",
    "            if record['title'] in title_filter or set(record['categories']) in category_filter:\n",
    "                yield record\n",
    "                \n",
    "    def split_stream(content_field='text'):\n",
    "        stream = generate_stream(self.category_filter, self.text_filter)\n",
    "        text_stream, metadata_stream = textacy.io.split_records(stream, content_field)\n",
    "        return text_stream, metadata_stream\n",
    "    \n",
    "    def expand_filters(self,\n",
    "                       title_filter=None,\n",
    "                       category_filter=None):\n",
    "        \n",
    "        if title_filter is None:\n",
    "            title_filter = self.title_filter\n",
    "        if category_filter is None:\n",
    "            category_filter = self.category_filter\n",
    "        \n",
    "        titles, categories = get_related_pages(title_filter,\n",
    "                                               titles = title_filter,\n",
    "                                               categories = category_filter)"
   ]
  },
  {
   "cell_type": "code",
   "execution_count": null,
   "metadata": {},
   "outputs": [],
   "source": []
  },
  {
   "cell_type": "code",
   "execution_count": 99,
   "metadata": {},
   "outputs": [],
   "source": [
    "dataset = Dataset()"
   ]
  },
  {
   "cell_type": "code",
   "execution_count": 113,
   "metadata": {},
   "outputs": [],
   "source": [
    "dataset.title_filter = ['Set (mathematics)']"
   ]
  },
  {
   "cell_type": "code",
   "execution_count": 124,
   "metadata": {},
   "outputs": [
    {
     "data": {
      "text/plain": [
       "<generator object Dataset.generate_stream at 0x10c627c50>"
      ]
     },
     "execution_count": 124,
     "metadata": {},
     "output_type": "execute_result"
    }
   ],
   "source": [
    "dataset.generate_stream()"
   ]
  },
  {
   "cell_type": "code",
   "execution_count": 108,
   "metadata": {
    "collapsed": true
   },
   "outputs": [
    {
     "data": {
      "text/plain": [
       "['__class__',\n",
       " '__delattr__',\n",
       " '__dict__',\n",
       " '__dir__',\n",
       " '__doc__',\n",
       " '__eq__',\n",
       " '__format__',\n",
       " '__ge__',\n",
       " '__getattribute__',\n",
       " '__gt__',\n",
       " '__hash__',\n",
       " '__init__',\n",
       " '__iter__',\n",
       " '__le__',\n",
       " '__lt__',\n",
       " '__module__',\n",
       " '__ne__',\n",
       " '__new__',\n",
       " '__reduce__',\n",
       " '__reduce_ex__',\n",
       " '__repr__',\n",
       " '__setattr__',\n",
       " '__sizeof__',\n",
       " '__str__',\n",
       " '__subclasshook__',\n",
       " '__weakref__',\n",
       " '_parse_content',\n",
       " '_parse_date_range',\n",
       " 'category_filter',\n",
       " 'content_field',\n",
       " 'download',\n",
       " 'filename',\n",
       " 'generate_stream',\n",
       " 'info',\n",
       " 'record_limit',\n",
       " 'records',\n",
       " 'split_stream',\n",
       " 'stream_fast',\n",
       " 'texts',\n",
       " 'title_filter']"
      ]
     },
     "execution_count": 108,
     "metadata": {},
     "output_type": "execute_result"
    }
   ],
   "source": [
    "dir(dataset)"
   ]
  },
  {
   "cell_type": "code",
   "execution_count": null,
   "metadata": {},
   "outputs": [],
   "source": []
  }
 ],
 "metadata": {
  "kernelspec": {
   "display_name": "Python 3",
   "language": "python",
   "name": "python3"
  },
  "language_info": {
   "codemirror_mode": {
    "name": "ipython",
    "version": 3
   },
   "file_extension": ".py",
   "mimetype": "text/x-python",
   "name": "python",
   "nbconvert_exporter": "python",
   "pygments_lexer": "ipython3",
   "version": "3.5.3"
  },
  "varInspector": {
   "cols": {
    "lenName": 16.0,
    "lenType": 16.0,
    "lenVar": 40.0
   },
   "kernels_config": {
    "python": {
     "delete_cmd_postfix": "",
     "delete_cmd_prefix": "del ",
     "library": "var_list.py",
     "varRefreshCmd": "print(var_dic_list())"
    },
    "r": {
     "delete_cmd_postfix": ") ",
     "delete_cmd_prefix": "rm(",
     "library": "var_list.r",
     "varRefreshCmd": "cat(var_dic_list()) "
    }
   },
   "oldHeight": 375.26086950302124,
   "position": {
    "height": "397px",
    "left": "5.584239482879639px",
    "right": "107.45924377441406px",
    "top": "0.9375px",
    "width": "800px"
   },
   "types_to_exclude": [
    "module",
    "function",
    "builtin_function_or_method",
    "instance",
    "_Feature"
   ],
   "varInspector_section_display": "block",
   "window_display": false
  }
 },
 "nbformat": 4,
 "nbformat_minor": 2
}
