{
 "cells": [
  {
   "cell_type": "code",
   "execution_count": 1,
   "metadata": {},
   "outputs": [],
   "source": [
    "# Imports\n",
    "from py2neo import Graph\n",
    "from neo.graph.data import Node\n",
    "from py2neo.ogm import GraphObject, Property, Label, Related, RelatedTo, RelatedFrom, RelatedObjects"
   ]
  },
  {
   "cell_type": "code",
   "execution_count": 2,
   "metadata": {},
   "outputs": [],
   "source": [
    "graph = Graph(password = 'password')"
   ]
  },
  {
   "cell_type": "code",
   "execution_count": 3,
   "metadata": {
    "code_folding": [
     0
    ]
   },
   "outputs": [],
   "source": [
    "class Node(GraphObject):\n",
    "    \"\"\"\n",
    "    A node in the graph, should only be used to represent nodes that can't be parsed\n",
    "\n",
    "    Main attributes:\n",
    "        children - a list of nodes this node is related to\n",
    "        parents - a list of nodes that contain this node\n",
    "        depth - minimum number of edges away from a root node\n",
    "        graph - the graph this node belongs to\n",
    "    \"\"\"\n",
    "    \n",
    "    def __init__(self, graph=graph):\n",
    "        self.children = None\n",
    "        self.parents = None\n",
    "        self.depth = 0\n",
    "        self.graph = graph"
   ]
  },
  {
   "cell_type": "code",
   "execution_count": 4,
   "metadata": {},
   "outputs": [],
   "source": [
    "node = Node()"
   ]
  },
  {
   "cell_type": "code",
   "execution_count": 5,
   "metadata": {
    "collapsed": true
   },
   "outputs": [
    {
     "data": {
      "text/plain": [
       "['_Graph__instances',\n",
       " '_Graph__node_labels',\n",
       " '_Graph__relationship_types',\n",
       " '_Graph__schema',\n",
       " '__bool__',\n",
       " '__class__',\n",
       " '__contains__',\n",
       " '__delattr__',\n",
       " '__dict__',\n",
       " '__dir__',\n",
       " '__doc__',\n",
       " '__eq__',\n",
       " '__format__',\n",
       " '__ge__',\n",
       " '__getattribute__',\n",
       " '__gt__',\n",
       " '__hash__',\n",
       " '__init__',\n",
       " '__le__',\n",
       " '__len__',\n",
       " '__lt__',\n",
       " '__module__',\n",
       " '__ne__',\n",
       " '__new__',\n",
       " '__nonzero__',\n",
       " '__order__',\n",
       " '__reduce__',\n",
       " '__reduce_ex__',\n",
       " '__remote__',\n",
       " '__repr__',\n",
       " '__setattr__',\n",
       " '__size__',\n",
       " '__sizeof__',\n",
       " '__str__',\n",
       " '__subclasshook__',\n",
       " '__weakref__',\n",
       " '_hydrate',\n",
       " 'address',\n",
       " 'begin',\n",
       " 'create',\n",
       " 'data',\n",
       " 'dbms',\n",
       " 'degree',\n",
       " 'delete',\n",
       " 'delete_all',\n",
       " 'driver',\n",
       " 'evaluate',\n",
       " 'exists',\n",
       " 'find',\n",
       " 'find_one',\n",
       " 'match',\n",
       " 'match_one',\n",
       " 'merge',\n",
       " 'neo4j_version',\n",
       " 'node',\n",
       " 'node_labels',\n",
       " 'node_selector',\n",
       " 'open_browser',\n",
       " 'pull',\n",
       " 'push',\n",
       " 'relationship',\n",
       " 'relationship_types',\n",
       " 'run',\n",
       " 'schema',\n",
       " 'separate',\n",
       " 'transaction_class',\n",
       " 'transaction_uri']"
      ]
     },
     "execution_count": 5,
     "metadata": {},
     "output_type": "execute_result"
    }
   ],
   "source": [
    "dir(graph)"
   ]
  },
  {
   "cell_type": "code",
   "execution_count": null,
   "metadata": {},
   "outputs": [],
   "source": []
  }
 ],
 "metadata": {
  "kernelspec": {
   "display_name": "Python 3",
   "language": "python",
   "name": "python3"
  },
  "language_info": {
   "codemirror_mode": {
    "name": "ipython",
    "version": 3
   },
   "file_extension": ".py",
   "mimetype": "text/x-python",
   "name": "python",
   "nbconvert_exporter": "python",
   "pygments_lexer": "ipython3",
   "version": "3.5.3"
  },
  "varInspector": {
   "cols": {
    "lenName": 16,
    "lenType": 16,
    "lenVar": 40
   },
   "kernels_config": {
    "python": {
     "delete_cmd_postfix": "",
     "delete_cmd_prefix": "del ",
     "library": "var_list.py",
     "varRefreshCmd": "print(var_dic_list())"
    },
    "r": {
     "delete_cmd_postfix": ") ",
     "delete_cmd_prefix": "rm(",
     "library": "var_list.r",
     "varRefreshCmd": "cat(var_dic_list()) "
    }
   },
   "position": {
    "height": "262px",
    "left": "557.4000244140625px",
    "right": "9.600000381469727px",
    "top": "94px",
    "width": "423px"
   },
   "types_to_exclude": [
    "module",
    "function",
    "builtin_function_or_method",
    "instance",
    "_Feature"
   ],
   "window_display": true
  }
 },
 "nbformat": 4,
 "nbformat_minor": 2
}
