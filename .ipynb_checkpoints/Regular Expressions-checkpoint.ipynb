{
 "cells": [
  {
   "cell_type": "code",
   "execution_count": 18,
   "metadata": {
    "code_folding": []
   },
   "outputs": [],
   "source": [
    "# Import Statements \n",
    "import wikipedia\n",
    "import textacy.corpus\n",
    "import re\n",
    "import spacy\n",
    "import textacy\n",
    "import textacy.keyterms\n",
    "\n",
    "nlp = spacy.load('en_core_web_sm')"
   ]
  },
  {
   "cell_type": "markdown",
   "metadata": {},
   "source": [
    "# Definitions"
   ]
  },
  {
   "cell_type": "code",
   "execution_count": 19,
   "metadata": {
    "code_folding": []
   },
   "outputs": [],
   "source": [
    "re_section_headers = re.compile('==(.*?)==')\n",
    "re_whitespace = re.compile('\\\\n{1,}\\s*')\n",
    "re_display_styles = re.compile('(\\{)(.*?\\}){0,4}')\n",
    "re_duplicate_spaces = re.compile('(\\s{2,})')\n",
    "re_escaped_elements = re.compile(r'(\\\\)(\\w)*')\n",
    "re_newlines = re.compile('(\\\\n)')\n",
    "re_not_words = re.compile('(\\ )(\\W){1,2}(\\ )')\n",
    "re_cruft = re.compile('[^(A-Z|a-z|\\.|\\,|\\ |\\\"|\\?)]')\n",
    "re_single_words = re.compile('(\\ )(\\w){1,2}(\\ )')\n",
    "re_apostrophes = re.compile(\"\\\\'\")\n",
    "re_rename_1 = re.compile('[^(A-Z|a-z|\\.|\\,|\\ |\\\"|\\?)]')\n",
    "re_rename_2 = re.compile('[\\||\\(|\\)]')\n",
    "re_rename_3 = re.compile('(\\ )(\\W)*(\\ )')"
   ]
  },
  {
   "cell_type": "code",
   "execution_count": 20,
   "metadata": {
    "code_folding": [
     0
    ]
   },
   "outputs": [],
   "source": [
    "def strip_markup(text): \n",
    "    text = re_section_headers.sub(' ', text)\n",
    "    text = re_whitespace.sub(' ', text)\n",
    "    text = re_display_styles.sub(' ', text)\n",
    "    text = re_display_styles_punct.sub(' ', text)\n",
    "    text = re_duplicate_spaces.sub(' ', text)\n",
    "    text = textacy.preprocess.fix_bad_unicode(text)\n",
    "    text = textacy.preprocess.transliterate_unicode(text)\n",
    "    text = re_escaped_elements.sub(' ', text)\n",
    "    \n",
    "    return text;"
   ]
  },
  {
   "cell_type": "markdown",
   "metadata": {},
   "source": [
    "# Testing"
   ]
  },
  {
   "cell_type": "code",
   "execution_count": 21,
   "metadata": {},
   "outputs": [],
   "source": [
    "text = wikipedia.WikipediaPage('Bayesian network').content\n",
    "text = re_apostrophes.sub(' ', text)\n",
    "text = re_display_styles.sub(' ', text)\n",
    "text = re_newlines.sub(' ', text)\n",
    "text = re_section_headers.sub(' ', text)\n",
    "text = re_not_words.sub(' ', text)\n",
    "text = re_single_words.sub(' ', text)\n",
    "text = re_duplicate_spaces.sub(' ', text)\n",
    "text = re_escaped_elements.sub(' ', text)\n",
    "text = re_cruft.sub(' ', text)\n",
    "text = re_rename_1.sub(' ', text)\n",
    "text = re_rename_2.sub(' ', text)\n",
    "text = re_rename_3.sub(' ', text)"
   ]
  },
  {
   "cell_type": "code",
   "execution_count": 24,
   "metadata": {
    "code_folding": []
   },
   "outputs": [],
   "source": [
    "doc = textacy.Doc(nlp(text))\n",
    "graph = doc.to_semantic_network()\n",
    "\n",
    "kt = textacy.keyterms.sgrank(doc,\n",
    "                             window_width = 150,\n",
    "                             n_keyterms = 50)"
   ]
  },
  {
   "cell_type": "code",
   "execution_count": 23,
   "metadata": {},
   "outputs": [
    {
     "data": {
      "text/plain": [
       "[('bayesian network', 0.5063690245194188),\n",
       " ('variable', 0.031780322435741006),\n",
       " ('conditional probability', 0.030276277187384022),\n",
       " ('parent variable', 0.027563367193405047),\n",
       " ('inference bayesian network', 0.0238795556797829),\n",
       " ('probability function', 0.02079650470956927),\n",
       " ('joint probability', 0.019577981982737767),\n",
       " ('model', 0.01922109915772842),\n",
       " ('joint distribution', 0.01683480291325241),\n",
       " ('node', 0.01583499767779429)]"
      ]
     },
     "execution_count": 23,
     "metadata": {},
     "output_type": "execute_result"
    }
   ],
   "source": [
    "kt"
   ]
  },
  {
   "cell_type": "code",
   "execution_count": 17,
   "metadata": {},
   "outputs": [
    {
     "data": {
      "text/plain": [
       "['Corpus',\n",
       " 'Doc',\n",
       " 'TextStats',\n",
       " 'TopicModel',\n",
       " 'Vectorizer',\n",
       " '__builtins__',\n",
       " '__cached__',\n",
       " '__doc__',\n",
       " '__file__',\n",
       " '__loader__',\n",
       " '__name__',\n",
       " '__package__',\n",
       " '__path__',\n",
       " '__spec__',\n",
       " '__version__',\n",
       " 'about',\n",
       " 'absolute_import',\n",
       " 'cache',\n",
       " 'compat',\n",
       " 'constants',\n",
       " 'corpus',\n",
       " 'data_dir',\n",
       " 'doc',\n",
       " 'extract',\n",
       " 'io',\n",
       " 'load_spacy',\n",
       " 'logger',\n",
       " 'logging',\n",
       " 'network',\n",
       " 'os',\n",
       " 'preprocess',\n",
       " 'preprocess_text',\n",
       " 'spacy_utils',\n",
       " 'text_stats',\n",
       " 'text_utils',\n",
       " 'tm',\n",
       " 'utils',\n",
       " 'viz',\n",
       " 'vsm']"
      ]
     },
     "execution_count": 17,
     "metadata": {},
     "output_type": "execute_result"
    }
   ],
   "source": []
  },
  {
   "cell_type": "code",
   "execution_count": null,
   "metadata": {},
   "outputs": [],
   "source": []
  }
 ],
 "metadata": {
  "kernelspec": {
   "display_name": "Python 3",
   "language": "python",
   "name": "python3"
  },
  "language_info": {
   "codemirror_mode": {
    "name": "ipython",
    "version": 3
   },
   "file_extension": ".py",
   "mimetype": "text/x-python",
   "name": "python",
   "nbconvert_exporter": "python",
   "pygments_lexer": "ipython3",
   "version": "3.5.3"
  },
  "varInspector": {
   "cols": {
    "lenName": 16,
    "lenType": 16,
    "lenVar": 40
   },
   "kernels_config": {
    "python": {
     "delete_cmd_postfix": "",
     "delete_cmd_prefix": "del ",
     "library": "var_list.py",
     "varRefreshCmd": "print(var_dic_list())"
    },
    "r": {
     "delete_cmd_postfix": ") ",
     "delete_cmd_prefix": "rm(",
     "library": "var_list.r",
     "varRefreshCmd": "cat(var_dic_list()) "
    }
   },
   "types_to_exclude": [
    "module",
    "function",
    "builtin_function_or_method",
    "instance",
    "_Feature"
   ],
   "window_display": true
  }
 },
 "nbformat": 4,
 "nbformat_minor": 2
}
