{
 "cells": [
  {
   "cell_type": "code",
   "execution_count": 31,
   "metadata": {
    "code_folding": []
   },
   "outputs": [],
   "source": [
    "# from textacy.datasets import Wikipedia\n",
    "import textacy\n",
    "from textacy.datasets import Wikipedia"
   ]
  },
  {
   "cell_type": "code",
   "execution_count": 50,
   "metadata": {
    "code_folding": [
     2,
     7,
     9,
     17,
     21
    ]
   },
   "outputs": [],
   "source": [
    "# 'class Dataset'\n",
    "class Dataset(Wikipedia): \n",
    "    def __init__(self, data_dir, title_filter=set(), category_filter=set()):\n",
    "        super().__init__(self, data_dir)\n",
    "        self.title_filter = title_filter\n",
    "        self.category_filter = category_filter\n",
    "    def generate_stream(self, category_filter = set(), title_filter = set(), limit = 5, fast = True):\n",
    "        \n",
    "        if not Bool(category_filter):\n",
    "            category_filter = self.category_filter\n",
    "        if not Bool(title_filter):\n",
    "            title_filter = self.title_filter\n",
    "\n",
    "        for record in self.records(limit=limit, fast=fast):\n",
    "            if record['title'] in title_filter or set(record['categories']) in category_filter:\n",
    "                yield record      \n",
    "    def split_stream(content_field='text'):\n",
    "        stream = generate_stream(self.category_filter, self.text_filter)\n",
    "        text_stream, metadata_stream = textacy.io.split_records(stream, content_field)\n",
    "        return text_stream, metadata_stream\n",
    "    def expand_filters(self, title_filter = None, category_filter = None):\n",
    "        \n",
    "        if title_filter is None:\n",
    "            title_filter = self.title_filter\n",
    "        if category_filter is None:\n",
    "            category_filter = self.category_filter\n",
    "        \n",
    "        titles, categories = get_related_pages(title_filter,\n",
    "                                               titles = title_filter,\n",
    "                                               categories = category_filter)"
   ]
  },
  {
   "cell_type": "code",
   "execution_count": 32,
   "metadata": {},
   "outputs": [],
   "source": [
    "path = textacy.__file__[:-11] + '/data/wikipedia'\n",
    "dataset = Dataset(path)"
   ]
  },
  {
   "cell_type": "code",
   "execution_count": 37,
   "metadata": {},
   "outputs": [],
   "source": []
  }
 ],
 "metadata": {
  "kernelspec": {
   "display_name": "Python 3",
   "language": "python",
   "name": "python3"
  },
  "language_info": {
   "codemirror_mode": {
    "name": "ipython",
    "version": 3
   },
   "file_extension": ".py",
   "mimetype": "text/x-python",
   "name": "python",
   "nbconvert_exporter": "python",
   "pygments_lexer": "ipython3",
   "version": "3.5.3"
  },
  "varInspector": {
   "cols": {
    "lenName": 16,
    "lenType": 16,
    "lenVar": 40
   },
   "kernels_config": {
    "python": {
     "delete_cmd_postfix": "",
     "delete_cmd_prefix": "del ",
     "library": "var_list.py",
     "varRefreshCmd": "print(var_dic_list())"
    },
    "r": {
     "delete_cmd_postfix": ") ",
     "delete_cmd_prefix": "rm(",
     "library": "var_list.r",
     "varRefreshCmd": "cat(var_dic_list()) "
    }
   },
   "oldHeight": 228.26086950302124,
   "position": {
    "height": "40px",
    "left": "865.5435180664063px",
    "right": "3.6413044929504395px",
    "top": "5.92391300201416px",
    "width": "383px"
   },
   "types_to_exclude": [
    "module",
    "function",
    "builtin_function_or_method",
    "instance",
    "_Feature"
   ],
   "varInspector_section_display": "none",
   "window_display": false
  }
 },
 "nbformat": 4,
 "nbformat_minor": 2
}
